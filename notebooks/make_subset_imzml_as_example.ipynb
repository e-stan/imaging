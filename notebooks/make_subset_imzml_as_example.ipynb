{
 "cells": [
  {
   "cell_type": "code",
   "execution_count": 1,
   "metadata": {},
   "outputs": [],
   "source": [
    "import SIMSIToolBox\n",
    "import os"
   ]
  },
  {
   "cell_type": "code",
   "execution_count": 8,
   "metadata": {},
   "outputs": [],
   "source": [
    "inpath = \"X:/MSI_Shared_Data/13CImagingManuscript/raw_data/imzmls/\"\n",
    "ppmThresh = 50\n",
    "num_cores = 20\n",
    "intensityCutoff = 100"
   ]
  },
  {
   "cell_type": "code",
   "execution_count": 5,
   "metadata": {},
   "outputs": [
    {
     "name": "stdout",
     "output_type": "stream",
     "text": [
      "['20201113_01_170w250h_13CtumorBrain2_009115H_03 Analyte 6_1.imzml', '20210223_02_100w120h_13CtumorBrain2_009109H_01 009109H_1.imzml', '20210223_03_100w120h_13CtumorBrain2_009108H_01 009108H_1.imzml', '20210226_01_130w75h_13CtumorBrain1_0088B_01 0088B_1.imzml', '20210226_02_130w75h_13CtumorBrain1_0087B_01 0087B_1.imzml', '20210301_01_90w115h_13CnontumorBrain5_02823A_01 02823A_1.imzml', '20210301_02_90w115h_13CnontumorBrain5_02824A_01 02824A_1.imzml', '20210301_03_90w90h_13CnontumorBrain6_00611E_01 00611E_1.imzml', '20210301_04_90w90h_13CnontumorBrain6_00612F_01 00612F_1.imzml']\n"
     ]
    }
   ],
   "source": [
    "files = [x for x in os.listdir(inpath) if \".imzml\" in x]\n",
    "print(files)"
   ]
  },
  {
   "cell_type": "code",
   "execution_count": 6,
   "metadata": {},
   "outputs": [],
   "source": [
    "file = files[2]"
   ]
  },
  {
   "cell_type": "code",
   "execution_count": 7,
   "metadata": {},
   "outputs": [],
   "source": [
    "metabolites = [\"C6H8NO5\",\"C6H12O9P\",\"C16H31O2\",\"C20H31O2\"]\n",
    "mzs = []\n",
    "for met in metabolites:\n",
    "    m0Mz, mzsOI, numCarbons = SIMSIToolBox.getMzsOfIsotopologues(met, elementOfInterest=\"C\")\n",
    "    mzs += list(mzsOI)"
   ]
  },
  {
   "cell_type": "code",
   "execution_count": 11,
   "metadata": {},
   "outputs": [
    {
     "name": "stderr",
     "output_type": "stream",
     "text": [
      "c:\\users\\ethan\\appdata\\local\\programs\\python\\python37\\lib\\site-packages\\pyimzml\\ontology\\ontology.py:94: UserWarning: Accession MS:1000526 found with incorrect name \"Waters raw file\". Updating name to \"Waters raw format\".\n",
      "  % (accession, raw_name, name)\n",
      "c:\\users\\ethan\\appdata\\local\\programs\\python\\python37\\lib\\site-packages\\pyimzml\\ontology\\ontology.py:94: UserWarning: Accession IMS:1000042 found with incorrect name \"max count of pixel x\". Updating name to \"max count of pixels x\".\n",
      "  % (accession, raw_name, name)\n",
      "c:\\users\\ethan\\appdata\\local\\programs\\python\\python37\\lib\\site-packages\\pyimzml\\ontology\\ontology.py:94: UserWarning: Accession IMS:1000043 found with incorrect name \"max count of pixel y\". Updating name to \"max count of pixels y\".\n",
      "  % (accession, raw_name, name)\n",
      "c:\\users\\ethan\\appdata\\local\\programs\\python\\python37\\lib\\site-packages\\pyimzml\\ontology\\ontology.py:94: UserWarning: Accession IMS:1000046 found with incorrect name \"pixel size\". Updating name to \"pixel size (x)\".\n",
      "  % (accession, raw_name, name)\n"
     ]
    },
    {
     "name": "stdout",
     "output_type": "stream",
     "text": [
      "extracting intensities |██████████████████████████████████████████████████| 100.0% \n"
     ]
    }
   ],
   "source": [
    "if __name__ == \"__main__\":\n",
    "    msi = SIMSIToolBox.MSIData(mzs,ppm=ppmThresh,numCores = num_cores,intensityCutoff=intensityCutoff)\n",
    "    dim = file.split(\"_\")[2]\n",
    "    dim = (int(dim.split(\"w\")[0]),int(dim.split(\"w\")[1][:-1]))\n",
    "    msi.readimzML(inpath+file, dim)\n"
   ]
  },
  {
   "cell_type": "code",
   "execution_count": null,
   "metadata": {},
   "outputs": [],
   "source": [
    "if __name__ == \"__main__\":\n",
    "    msi."
   ]
  }
 ],
 "metadata": {
  "kernelspec": {
   "display_name": "Python 3",
   "language": "python",
   "name": "python3"
  },
  "language_info": {
   "codemirror_mode": {
    "name": "ipython",
    "version": 3
   },
   "file_extension": ".py",
   "mimetype": "text/x-python",
   "name": "python",
   "nbconvert_exporter": "python",
   "pygments_lexer": "ipython3",
   "version": "3.7.6"
  }
 },
 "nbformat": 4,
 "nbformat_minor": 4
}
