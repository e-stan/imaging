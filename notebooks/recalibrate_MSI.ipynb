{
 "cells": [
  {
   "cell_type": "code",
   "execution_count": 1,
   "id": "b31c0c63-8038-4f55-993f-48bbb3df2747",
   "metadata": {},
   "outputs": [],
   "source": [
    "import SIMSIToolBox\n",
    "import os\n",
    "import pandas as pd\n",
    "import numpy as np\n",
    "import SIMSIToolBox.recalibration\n",
    "import matplotlib.pyplot as plt"
   ]
  },
  {
   "cell_type": "code",
   "execution_count": 17,
   "id": "6e946c42-b940-4f48-a6fb-6b6bdff46be5",
   "metadata": {},
   "outputs": [],
   "source": [
    "imzMLDir = \"X:/Kayla/MALDI Imaging Test/New folder/\" #path to folder that contains .imzML and .idb files\n",
    "metaspaceFilt = \"X:/Kayla/MALDI Imaging Test/New folder/metaspace_annotations.csv\" #path to csv file that is the output from metaspace\n",
    "num_cores = 20 #number of processor cores to use"
   ]
  },
  {
   "cell_type": "code",
   "execution_count": 3,
   "id": "affcb11e-cbe8-44ce-b0c8-27309ac8e236",
   "metadata": {},
   "outputs": [
    {
     "data": {
      "text/plain": [
       "['labeled low energy-total ion count.imzML',\n",
       " 'labeled_higherenergy-TIC.imzML',\n",
       " 'labeled_higherenergy-TIC_recal.imzML']"
      ]
     },
     "execution_count": 3,
     "metadata": {},
     "output_type": "execute_result"
    }
   ],
   "source": [
    "#get imzMLs in the folder\n",
    "imzMLs = [x for x in os.listdir(imzMLDir) if \".imzML\" in x] #get imzMLs\n",
    "imzMLs"
   ]
  },
  {
   "cell_type": "code",
   "execution_count": 8,
   "id": "5190b2b7-f139-4db1-8c61-5da263abc247",
   "metadata": {},
   "outputs": [
    {
     "data": {
      "text/plain": [
       "55"
      ]
     },
     "execution_count": 8,
     "metadata": {},
     "output_type": "execute_result"
    }
   ],
   "source": [
    "#read metaspace file\n",
    "metaspace = pd.read_csv(metaspaceFilt,header=2) \n",
    "metaspace = metaspace.sort_values(by=\"mz\")\n",
    "mzs = metaspace[\"mz\"]\n",
    "len(mzs)"
   ]
  },
  {
   "cell_type": "code",
   "execution_count": 11,
   "id": "d7db4b01-a3ba-4712-a251-a8a3e692219c",
   "metadata": {},
   "outputs": [
    {
     "name": "stdout",
     "output_type": "stream",
     "text": [
      "6750 peaks found\n",
      "54 hits found\n",
      "54 peaks in roi found\n"
     ]
    },
    {
     "data": {
      "image/png": "[encoded data removed]",
      "text/plain": [
       "<Figure size 432x288 with 1 Axes>"
      ]
     },
     "metadata": {
      "needs_background": "light"
     },
     "output_type": "display_data"
    },
    {
     "data": {
      "image/png": "[encoded data removed]",
      "text/plain": [
       "<Figure size 432x288 with 1 Axes>"
      ]
     },
     "metadata": {
      "needs_background": "light"
     },
     "output_type": "display_data"
    }
   ],
   "source": [
    "#visualize recalibration parameters\n",
    "if __name__ == \"__main__\":\n",
    "    file = imzMLs[0]\n",
    "    tolerance = 0.01 #maximum expected mass drift\n",
    "    step = 0.002 #smoothing on histogram\n",
    "    dalim = 0.01 #bounding on histogram fit\n",
    "    threshold = 100 #noise threshold for peak matching\n",
    "    SIMSIToolBox.recalibration.visualizeParameters(imzMLDir + file,1,tolerance,np.array(mzs),step,dalim,threshold)"
   ]
  },
  {
   "cell_type": "code",
   "execution_count": null,
   "id": "7320ffba-593b-4436-a062-69df297a0646",
   "metadata": {},
   "outputs": [
    {
     "name": "stdout",
     "output_type": "stream",
     "text": [
      "reading spectra..."
     ]
    }
   ],
   "source": [
    "#recalibrate imzMLs\n",
    "if __name__ == \"__main__\":\n",
    "    for file in imzMLs:\n",
    "        SIMSIToolBox.recalibration.write_corrected_msi(imzMLDir + file,imzMLDir + file.replace(\".imzML\",\"_recal.imzML\"),tolerance,mzs,step,dalim,threshold,numCores=num_cores)\n"
   ]
  },
  {
   "cell_type": "code",
   "execution_count": null,
   "id": "8267a7a4-d788-4d71-87f0-5a9b3217c752",
   "metadata": {},
   "outputs": [],
   "source": []
  }
 ],
 "metadata": {
  "kernelspec": {
   "display_name": "Python 3",
   "language": "python",
   "name": "python3"
  },
  "language_info": {
   "codemirror_mode": {
    "name": "ipython",
    "version": 3
   },
   "file_extension": ".py",
   "mimetype": "text/x-python",
   "name": "python",
   "nbconvert_exporter": "python",
   "pygments_lexer": "ipython3",
   "version": "3.7.6"
  }
 },
 "nbformat": 4,
 "nbformat_minor": 5
}
