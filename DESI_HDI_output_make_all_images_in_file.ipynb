{
 "cells": [
  {
   "cell_type": "markdown",
   "metadata": {
    "colab_type": "text",
    "id": "Rk6vckIyzD1M"
   },
   "source": [
    "This notebook will take a tab delimited text file that contains peak intensities in a DESI experiment exported from the Waters HDI software. An image will be constructed for each feature in the datafile. The generated images (as tab delimited text files) are added to a zip file for download. \n",
    "\n",
    "Enter the filename of the uploaded file in the cell below. You must also enter the desired resolution in the nrows (number of rows) and ncols (number of columns) fields in the cell below. Only downsampling is permited. If you select a resolution higher than the datafile actually is, no resizing will occur. After entering this information run this cell by clicking into the cell and pressing shift+enter or clicking the play button in the top left hand corner of the cell. \n"
   ]
  },
  {
   "cell_type": "code",
   "execution_count": 1,
   "metadata": {
    "colab": {},
    "colab_type": "code",
    "id": "SPGQoFchw5iL"
   },
   "outputs": [],
   "source": [
    "filename = \"20200228_mouse_liver_13C_nontumor6 Analyte 3SRD15.txt\"\n",
    "nrows = 60\n",
    "ncols = 60"
   ]
  },
  {
   "cell_type": "markdown",
   "metadata": {
    "colab_type": "text",
    "id": "8INrcrUq0d47"
   },
   "source": [
    "After entering the information in the cell above, run the cell below. After it has completed you can download the zip archive from the panel on the left. This may take a few minutes if the input data has lots of features."
   ]
  },
  {
   "cell_type": "code",
   "execution_count": null,
   "metadata": {
    "colab": {},
    "colab_type": "code",
    "id": "L2OkD0lbw5iU"
   },
   "outputs": [],
   "source": [
    "#load necessary packages\n",
    "import numpy as np\n",
    "import matplotlib.pyplot as plt\n",
    "import pandas as pd\n",
    "from zipfile import ZipFile\n",
    "import os\n",
    "\n",
    "#simple image scaling to (nR x nC) size\n",
    "def scale(im, nR, nC):\n",
    "    nR0 = len(im)     # source number of rows \n",
    "    nC0 = len(im[0])  # source number of columns \n",
    "    blockSizeR = int(np.ceil(nR0/nR)) \n",
    "    blockSizeC = int(np.ceil(nC0/nC))\n",
    "    \n",
    "    if nR0 >= nR and nC0 >= nC: #ensure resolution is possible\n",
    "\n",
    "        outarray = np.zeros((nR,nC)) #generate output array\n",
    "\n",
    "        #use a max-pooling like summation\n",
    "        for r in range(nR):\n",
    "            for c in range(nC):\n",
    "                if blockSizeR*(r+1) > nR0 - 1: #check for end cases\n",
    "                    stopR = nR0\n",
    "                else:\n",
    "                    stopR = blockSizeR*(r+1)\n",
    "                if blockSizeC*(c+1) > nC0 - 1:\n",
    "                    stopC = nC0\n",
    "                else:\n",
    "                    stopC = blockSizeC*(c+1) \n",
    "                #sum signal in window\n",
    "                outarray[r,c] = np.sum(im[blockSizeR*r:stopR,blockSizeC*c:stopC])\n",
    "        return outarray\n",
    "    else:\n",
    "        print(\"image can only be downsampled\")\n",
    "        return im\n",
    "\n",
    "#load datafile\n",
    "data = [r.strip().split() for r in open(filename,\"r\").readlines()[3:]]\n",
    "data = {(x[0],float(x[1]),float(x[2])):{mz:float(i) for mz,i in zip(data[0],x[3:])} for x in data[1:] if len(x) > 0}\n",
    "data = pd.DataFrame.from_dict(data,orient=\"index\")\n",
    "\n",
    "#get mz indices\n",
    "cols = data.columns.values\n",
    "mzs = cols\n",
    "\n",
    "# create a ZipFile object\n",
    "zipObj = ZipFile(filename.replace(\".txt\",'_featureImages.zip'), 'w')\n",
    "\n",
    "#iterate over each feature\n",
    "for mz in mzs:\n",
    "\n",
    "    #generate hash of x,y coordinates and intensity\n",
    "    picDict = {}\n",
    "    for index,row in data.iterrows():\n",
    "        picDict[(index[2],index[1])] = row[mz]\n",
    "\n",
    "    #extract unique x,y coordinates\n",
    "    xcords = [float(y) for y in list(set([x[0] for x in picDict]))]\n",
    "    ycords = [float(y) for y in list(set([x[1] for x in picDict]))]\n",
    "\n",
    "    #make output array\n",
    "    outarray = np.zeros((len(xcords),len(ycords)))\n",
    "    \n",
    "    #sort coordinates and map to pixel position\n",
    "    xcords.sort()\n",
    "    ycords.sort()\n",
    "    xcordMap = {x:i for x,i in zip(xcords,range(len(xcords)))}\n",
    "    ycordMap = {x:i for x,i in zip(ycords,range(len(ycords)))}\n",
    "\n",
    "    #convert hash to ordered image\n",
    "    for [x,y],intens in picDict.items():\n",
    "        outarray[xcordMap[float(x)],ycordMap[float(y)]] = intens\n",
    "        \n",
    "    #rescale for desired resolution    \n",
    "    outarray = scale(outarray,nrows,ncols)\n",
    "    \n",
    "    #optional plotting of the images (too slow for lots of features)\n",
    "    #plt.figure()\n",
    "    #plt.imshow(outarray)\n",
    "    #plt.title(mz)\n",
    "    \n",
    "    #write output file\n",
    "    outfile = open(mz+\".txt\",\"w\")\n",
    "    for r in outarray:\n",
    "        for c in r:\n",
    "            outfile.write(str(c)+\"\\t\")\n",
    "        outfile.write(\"\\n\")\n",
    "    outfile.close()\n",
    "\n",
    "    #add to zip \n",
    "    zipObj.write(mz+\".txt\")\n",
    "\n",
    "    #delete text file\n",
    "    os.remove(mz+\".txt\")\n",
    "\n",
    "#close zip\n",
    "zipObj.close()\n",
    "\n",
    "    \n",
    "        "
   ]
  },
  {
   "cell_type": "code",
   "execution_count": null,
   "metadata": {
    "colab": {},
    "colab_type": "code",
    "id": "N51Qele5L_LP"
   },
   "outputs": [],
   "source": []
  }
 ],
 "metadata": {
  "colab": {
   "collapsed_sections": [],
   "name": "makeImagesFromHDI.ipynb",
   "provenance": []
  },
  "kernelspec": {
   "display_name": "Python 3",
   "language": "python",
   "name": "python3"
  },
  "language_info": {
   "codemirror_mode": {
    "name": "ipython",
    "version": 3
   },
   "file_extension": ".py",
   "mimetype": "text/x-python",
   "name": "python",
   "nbconvert_exporter": "python",
   "pygments_lexer": "ipython3",
   "version": "3.7.6"
  }
 },
 "nbformat": 4,
 "nbformat_minor": 1
}
