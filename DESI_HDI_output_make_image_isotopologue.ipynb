{
 "cells": [
  {
   "cell_type": "code",
   "execution_count": 7,
   "metadata": {},
   "outputs": [],
   "source": [
    "filename = \"20200228_mouse_liver_13C_nontumor6 Analyte 3SRD19.txt\"\n",
    "nrows = 60\n",
    "ncols = 120\n",
    "formula = \"C14H28O2\"\n",
    "\n",
    "polarity = -1\n",
    "ppmThresh = 20\n",
    "convSquare = 3\n",
    "colormap = \"gray\"\n",
    "threshold = True"
   ]
  },
  {
   "cell_type": "code",
   "execution_count": 8,
   "metadata": {},
   "outputs": [],
   "source": [
    "import pandas as pd\n",
    "import numpy as np\n",
    "import matplotlib.pyplot as plt\n",
    "from sklearn.manifold import TSNE\n",
    "import numpy as np\n",
    "import scipy.optimize as opt\n",
    "import matplotlib.pyplot as plt\n",
    "import pandas as pd\n",
    "import matplotlib\n",
    "matplotlib.rcParams['figure.dpi'] = 500\n",
    "import scipy.stats as stats\n",
    "import skimage.filters\n",
    "from helper import *\n",
    "import molmass\n",
    "from PIL import Image"
   ]
  },
  {
   "cell_type": "code",
   "execution_count": 9,
   "metadata": {},
   "outputs": [
    {
     "name": "stdout",
     "output_type": "stream",
     "text": [
      "found 227.20120254158 ['227.2002']\n",
      "found 228.20456254157997 ['228.2032']\n",
      "missed 229.20792254158\n",
      "found 230.21128254157998 ['230.2071']\n",
      "found 231.21464254158 ['231.2130']\n",
      "found 232.21800254157998 ['232.2166']\n",
      "found 233.22136254158 ['233.2205']\n",
      "found 234.22472254157998 ['234.2237']\n",
      "found 235.22808254158 ['235.2269']\n",
      "found 236.23144254157998 ['236.2302']\n",
      "found 237.23480254158 ['237.2333']\n",
      "found 238.23816254157998 ['238.2366']\n",
      "found 239.24152254158 ['239.2402']\n",
      "missed 240.24488254157998\n",
      "missed 241.24824254158\n"
     ]
    }
   ],
   "source": [
    "f = molmass.Formula(formula)\n",
    "m0Mz = f.isotope.mass\n",
    "adductChange = polarity * 1.0077276\n",
    "comp = f.composition()\n",
    "for row in comp:\n",
    "    if row[0] == \"C\":\n",
    "        numCarbons = int(row[1])\n",
    "\n",
    "#load in data and organize\n",
    "data = [r.strip().split() for r in open(filename,\"r\").readlines()[3:]]\n",
    "data = {(x[0],float(x[1]),float(x[2])):{mz:float(i) for mz,i in zip(data[0],x[3:])} for x in data[1:] if len(x) > 0}\n",
    "data = pd.DataFrame.from_dict(data,orient=\"index\")\n",
    "cols = data.columns.values\n",
    "mzs = cols\n",
    "\n",
    "\n",
    "#get mzs of interest\n",
    "mzsOI = [m0Mz+adductChange+1.00336*x for x in range(numCarbons+1)]\n",
    "mzMatchDict = {i:{\"true\":m,\"observed\":[],\"matched\":False} for m,i in zip(mzsOI,range(len(mzsOI)))}\n",
    "\n",
    "#find matching peaks in data and output found and missing peaks\n",
    "for m,i in zip(mzsOI,range(len(mzsOI))):\n",
    "    matched = False\n",
    "    for m2 in mzs:\n",
    "        tmpM2 = float(m2)\n",
    "        if abs(m-tmpM2) / m * 1e6 < ppmThresh:\n",
    "            mzMatchDict[i][\"observed\"].append(m2)\n",
    "            mzMatchDict[i][\"matched\"] = True\n",
    "            matched = True\n",
    "            break\n",
    "    if not matched:\n",
    "        print(\"missed\",m)\n",
    "    else:\n",
    "        print(\"found\",m,mzMatchDict[i][\"observed\"])\n"
   ]
  },
  {
   "cell_type": "code",
   "execution_count": 10,
   "metadata": {},
   "outputs": [
    {
     "name": "stdout",
     "output_type": "stream",
     "text": [
      "image can only be downsampled\n"
     ]
    }
   ],
   "source": [
    "#gather images for mzs of interest \n",
    "tensor = []\n",
    "for mz in range(numCarbons+1):\n",
    "    #iterate through mzs of interest\n",
    "    if mzMatchDict[mz][\"matched\"]:   \n",
    "        outarray = np.sum(np.array([getImage(data,x,nrows,ncols) for x in mzMatchDict[mz][\"observed\"]]),axis=0)\n",
    "        nrows = len(outarray)\n",
    "        ncols = len(outarray[0])\n",
    "    else:\n",
    "        outarray = np.zeros((nrows,ncols))\n",
    "    tensor.append(outarray)\n",
    "\n",
    "tensor = np.array(tensor)"
   ]
  },
  {
   "cell_type": "code",
   "execution_count": null,
   "metadata": {
    "scrolled": true
   },
   "outputs": [],
   "source": [
    "#get thresholded image to define sample boundary\n",
    "\n",
    "#create TIC image\n",
    "\n",
    "#go through all features in dataset\n",
    "if threshold:\n",
    "    sumImage = np.sum([getImage(data,x,nrows,ncols) for x in mzs],axis=0)\n",
    "\n",
    "    plt.imshow(sumImage,cmap=colormap)\n",
    "    plt.colorbar()\n",
    "    plt.figure()\n",
    "    plt.hist(sumImage.flatten())\n",
    "\n",
    "\n",
    "    threshold = skimage.filters.threshold_otsu(sumImage)\n",
    "\n",
    "    imageBoundary = sumImage > threshold\n",
    "\n",
    "    plt.plot([threshold,threshold],[0,1000])\n",
    "\n",
    "    plt.figure()\n",
    "\n",
    "    plt.imshow(imageBoundary,cmap=colormap)\n",
    "\n",
    "else:\n",
    "    imageBoundary = tensor[0] > -1\n",
    "\n",
    "offset = int((convSquare-1)/2)\n",
    "tensorFilt = np.zeros((len(tensor),nrows-2*offset,ncols-2*offset))\n",
    "newImageBoundary = np.zeros((nrows-2*offset,ncols-2*offset))\n",
    "for r in range(offset,nrows-offset):\n",
    "    for c in range(offset,ncols-offset):\n",
    "        newImageBoundary[r-offset:r+offset+1,c-offset:c+offset+1] = imageBoundary[r,c]\n",
    "        for t in range(len(tensor)):\n",
    "            tempMat = tensor[t,r-offset:r+offset+1,c-offset:c+offset+1]\n",
    "            coef = imageBoundary[r-offset:r+offset+1,c-offset:c+offset+1]\n",
    "            coef = coef / max([1,np.sum(coef)])\n",
    "            tensorFilt[t,r-offset,c-offset] = np.sum(np.multiply(tempMat,coef))\n",
    "\n",
    "normalizeTensor(tensorFilt)\n",
    "\n",
    "index = 0\n",
    "for t in tensorFilt:\n",
    "    im = Image.fromarray(t)\n",
    "    im.save(filename.replace(\".txt\",\"\") + \"_\" + formula + \"_isotopolgue_m+\" + str(index) + '.tif')\n",
    "    index+=1\n",
    "    plt.imshow(t,cmap=colormap)\n",
    "    plt.colorbar()\n",
    "    plt.title(\"m+\" + str(index))\n",
    "    plt.figure()"
   ]
  },
  {
   "cell_type": "code",
   "execution_count": null,
   "metadata": {
    "scrolled": false
   },
   "outputs": [],
   "source": [
    "\n"
   ]
  },
  {
   "cell_type": "code",
   "execution_count": null,
   "metadata": {},
   "outputs": [],
   "source": []
  },
  {
   "cell_type": "code",
   "execution_count": null,
   "metadata": {},
   "outputs": [],
   "source": []
  }
 ],
 "metadata": {
  "kernelspec": {
   "display_name": "Python 3",
   "language": "python",
   "name": "python3"
  },
  "language_info": {
   "codemirror_mode": {
    "name": "ipython",
    "version": 3
   },
   "file_extension": ".py",
   "mimetype": "text/x-python",
   "name": "python",
   "nbconvert_exporter": "python",
   "pygments_lexer": "ipython3",
   "version": "3.7.6"
  }
 },
 "nbformat": 4,
 "nbformat_minor": 4
}
